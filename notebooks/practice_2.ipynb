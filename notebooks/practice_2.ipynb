{
 "cells": [
  {
   "cell_type": "markdown",
   "metadata": {
    "collapsed": false
   },
   "source": [
    "# Práctica 2\n",
    "\n",
    "Para esta tarea, veremos los datos de vacunas de 2017. El archivo con estos datos está en `/data/NISPUF17.csv`. Para conocer los nombres de las variables de los datos tienes disponible una guía de usuarios de datos en `/data/NIS-PUF17-DUG.pdf`."
   ]
  },
  {
   "cell_type": "markdown",
   "metadata": {
    "collapsed": false
   },
   "source": [
    "## Pregunta 1\n",
    "\n",
    "Escribe una función llamada `proportion_of_education` que devuelva la proporción de niños en el dataset que tuvieron una madre con los niveles de educación: igual a menor de secundaria (<12), secundaria (12), mayor que secundaria pero sin ser universitaria graduada (>12) y con título universitario.\n",
    "\n",
    "Esta función debería devolver un diccionario en forma de (use los números correctos, no redondee los números):\n",
    "\n",
    "```python\n",
    "{\"menor que  secundaria\": 0.2,\n",
    " \"secundaria\": 0.4,\n",
    " \"mayor a secundaria pero no universitaria\": 0.2,\n",
    " \"universitaria\": 0.2}\n",
    "```\n"
   ]
  },
  {
   "cell_type": "code",
   "execution_count": 2,
   "metadata": {
    "ExecuteTime": {
     "end_time": "2023-05-21T22:00:42.430893575Z",
     "start_time": "2023-05-21T22:00:42.382088417Z"
    },
    "collapsed": false
   },
   "outputs": [
    {
     "name": "stdout",
     "output_type": "stream",
     "text": [
      "                         Nivel de Educación  Proporción\n",
      "0                      menor que secundaria    0.102020\n",
      "1                                secundaria    0.172352\n",
      "2  mayor a secundaria pero no universitaria    0.245881\n",
      "3                             universitaria    0.479747\n"
     ]
    }
   ],
   "source": [
    "import pandas as pd\n",
    "def proportion_of_education(file_path):\n",
    "    # Cargar los datos desde el archivo especificado en el enunciado\n",
    "    data = pd.read_csv(file_path)\n",
    "\n",
    "    # Filtrar y contar la cantidad de niños en cada categoría de educación\n",
    "    education_counts = data['EDUC1'].value_counts()\n",
    "\n",
    "    # Calcular la proporción\n",
    "    total_children = len(data)\n",
    "    proportions = {\n",
    "        \"menor que secundaria\": education_counts[1] / total_children,\n",
    "        \"secundaria\": education_counts[2] / total_children,\n",
    "        \"mayor a secundaria pero no universitaria\": education_counts[3] / total_children,\n",
    "        \"universitaria\": education_counts[4] / total_children\n",
    "    }\n",
    "\n",
    "    return proportions\n",
    "\n",
    "# Ruta al archivo de datos\n",
    "file_path = '../data/NISPUF17.csv'\n",
    "result = proportion_of_education(file_path)\n",
    "\n",
    "# Crear un DataFrame a partir del resultado\n",
    "df = pd.DataFrame(list(result.items()), columns=['Nivel de Educación', 'Proporción'])\n",
    "\n",
    "# Imprimir el DataFrame como una tabla\n",
    "print(df)\n",
    "pass"
   ]
  },
  {
   "cell_type": "markdown",
   "metadata": {
    "collapsed": false
   },
   "source": [
    "## Pregunta 2\n",
    "\n",
    "Exploremos la relación entre ser alimentado con leche materna (fed breast milk) cuando era niño y recibir una vacuna contra la influenza estacional (seasonal influenza) de un proveedor de atención médica.\n",
    "\n",
    "Devuelva una tupla del número promedio de vacunas contra la influenza para aquellos niños que sabemos que recibieron leche materna cuando eran niños y aquellos que sabemos que no."
   ]
  },
  {
   "cell_type": "code",
   "execution_count": 5,
   "metadata": {
    "collapsed": false
   },
   "outputs": [
    {
     "name": "stdout",
     "output_type": "stream",
     "text": [
      "(1.8799187420058687, 1.5963945918878317)\n"
     ]
    }
   ],
   "source": [
    "def average_influenza_doses(file_path):\n",
    "    # Cargar los datos desde el archivo especificado en el enunciado\n",
    "    data = pd.read_csv(file_path)\n",
    "\n",
    "    # Filtrar los datos para obtener dos conjuntos: niños con leche materna y sin leche materna\n",
    "    breast_fed = data[data['CBF_01'] == 1]  # CBF_01 es la columna que indica si recibieron leche materna\n",
    "    not_breast_fed = data[data['CBF_01'] == 2]\n",
    "\n",
    "    # Calcular el promedio de las vacunas contra la influenza para ambos conjuntos\n",
    "    avg_influenza_doses_breast_fed = breast_fed['P_NUMFLU'].mean()\n",
    "    avg_influenza_doses_not_breast_fed = not_breast_fed['P_NUMFLU'].mean()\n",
    "\n",
    "    return (avg_influenza_doses_breast_fed, avg_influenza_doses_not_breast_fed)\n",
    "\n",
    "# Ruta al archivo de datos\n",
    "file_path = '../data/NISPUF17.csv'\n",
    "result = average_influenza_doses(file_path)\n",
    "print(result)\n"
   ]
  },
  {
   "cell_type": "markdown",
   "metadata": {
    "collapsed": false
   },
   "source": [
    "# Pregunta 3\n",
    "\n",
    "Sería interesante ver si hay evidencia de un vínculo entre la efectividad de la vacuna y el sexo del niño.\n",
    "Calcule el ratio entre el número de niños que contrajeron varicela (chickenpox) pero que fueron vacunados contra ella (al menos una dosis) versus los que fueron vacunados y no contrajeron varicela.\n",
    "\n",
    "Devuelve los resultados por sexo.\n",
    "\n",
    "Esta función debería devolver un diccionario en forma de:\n",
    "\n",
    "```python\n",
    "{\"male\": 0.2, \"female\": 0.4}\n",
    "```\n",
    "\n",
    "Nota: Para ayudar en la verificación, el valor de chickenpox_by_sex()['female'] comienza con los dígitos 0.0077."
   ]
  },
  {
   "cell_type": "code",
   "execution_count": 6,
   "metadata": {
    "collapsed": false
   },
   "outputs": [
    {
     "name": "stdout",
     "output_type": "stream",
     "text": [
      "{'male': 0.009675583380762664, 'female': 0.0077918259335489565}\n"
     ]
    }
   ],
   "source": [
    "import pandas as pd\n",
    "def chickenpox_by_sex(file_path):\n",
    "    # Cargar los datos desde el archivo especificado en el enunciado\n",
    "    data = pd.read_csv(file_path)\n",
    "\n",
    "    # Filtrar los datos para obtener dos conjuntos: vacunados con varicela y contrajeron varicela, y vacunados pero no contrajeron\n",
    "    vaccinated_and_chickenpox = data[(data['P_NUMVRC'] >= 1) & (data['HAD_CPOX'] == 1)]\n",
    "    vaccinated_and_no_chickenpox = data[(data['P_NUMVRC'] >= 1) & (data['HAD_CPOX'] == 2)]\n",
    "\n",
    "    # Calcular el ratio para cada conjunto por sexo\n",
    "    ratio_male = (len(vaccinated_and_chickenpox[vaccinated_and_chickenpox['SEX'] == 1]) / len(vaccinated_and_no_chickenpox[vaccinated_and_no_chickenpox['SEX'] == 1]))\n",
    "    ratio_female = (len(vaccinated_and_chickenpox[vaccinated_and_chickenpox['SEX'] == 2]) / len(vaccinated_and_no_chickenpox[vaccinated_and_no_chickenpox['SEX'] == 2]))\n",
    "\n",
    "    return {\"male\": ratio_male, \"female\": ratio_female}\n",
    "\n",
    "# Ruta al archivo de datos\n",
    "file_path = '../data/NISPUF17.csv'\n",
    "result = chickenpox_by_sex(file_path)\n",
    "print(result)"
   ]
  }
 ],
 "metadata": {
  "kernelspec": {
   "display_name": "Python 3",
   "language": "python",
   "name": "python3"
  },
  "language_info": {
   "codemirror_mode": {
    "name": "ipython",
    "version": 3
   },
   "file_extension": ".py",
   "mimetype": "text/x-python",
   "name": "python",
   "nbconvert_exporter": "python",
   "pygments_lexer": "ipython3",
   "version": "3.9.6"
  }
 },
 "nbformat": 4,
 "nbformat_minor": 0
}
